{
 "cells": [
  {
   "cell_type": "markdown",
   "metadata": {},
   "source": [
    "# Azure OpenAI ChatGPT-4o CV Reviewer"
   ]
  },
  {
   "cell_type": "code",
   "execution_count": 7,
   "metadata": {},
   "outputs": [
    {
     "data": {
      "text/plain": [
       "True"
      ]
     },
     "execution_count": 7,
     "metadata": {},
     "output_type": "execute_result"
    }
   ],
   "source": [
    "from dotenv import load_dotenv\n",
    "load_dotenv()"
   ]
  },
  {
   "cell_type": "code",
   "execution_count": 8,
   "metadata": {},
   "outputs": [],
   "source": [
    "import os\n",
    "from collections import defaultdict\n",
    "\n",
    "# Define the path to the \"data\" folder\n",
    "data_folder = \"data\"\n",
    "\n",
    "cv_images = []\n",
    "# Traverse through each subfolder inside the \"data\" folder\n",
    "for root, dirs, files in os.walk(data_folder):\n",
    "    # Iterate over each file in the current subfolder\n",
    "    for file in files:\n",
    "        # Check if the file has a PNG extension\n",
    "        if file.endswith(\".png\"):\n",
    "            # Print the file path\n",
    "            # print(os.path.join(root, file))\n",
    "            cv_images.append(os.path.join(root, file))\n",
    "\n",
    "# Group cv_images by folder\n",
    "cv_images_by_folder = defaultdict(list)\n",
    "for image_path in cv_images:\n",
    "    folder = os.path.dirname(image_path)\n",
    "    cv_images_by_folder[folder].append(image_path)       "
   ]
  },
  {
   "cell_type": "code",
   "execution_count": 9,
   "metadata": {},
   "outputs": [],
   "source": [
    "system_prompt = \"\"\"\n",
    "As a dedicated career guide, your responsibility is to meticulously examine student resumes and provide feedback in Markdown format. Here are the detailed instructions:\n",
    "\n",
    "1. Identify and enumerate contact details, list actual value of the email address, mobile number, and LinkedIn Profile URL, in the initial section.\n",
    "2. List out all URLs present in the resume.\n",
    "3. List out all technologies mentioned.\n",
    "4. List out all skills highlighted.\n",
    "5. List out all certifications acquired.\n",
    "6. List out all educational qualifications along with the duration.\n",
    "7. List out all professional experiences along with the duration.\n",
    "8. The resume **should** contain an email and phone number for communication. Issue an alert if these details are missing.\n",
    "9. The profile section **should** contain the student's name, course name, institution, and GitHub URL. Issue an alert if any of these elements are missing.\n",
    "10. Students are anticipated to be enrolled in the **Higher Diploma in Cloud and Data Centre Administration** course in Hong Kong. Issue an alert if this information is missing or incorrect.\n",
    "11. Be vigilant for any illogical content (excluding irrelevant/non-IT work experience) or spelling mistakes. Issue an alert and underline the errors if any are detected.\n",
    "12. The summary section should be devoid of any pronouns.\n",
    "13. Ensure the consistency of tenses throughout the resume.\n",
    "14. Propose a suitable job title for the student based on the resume content.\n",
    "15. Assign a \"Resume Rating\" on a scale of 1 to 10, where 10 signifies an outstanding resume.\n",
    "16. If there are any alerts or missing information, the \"Resume Rating\" **should not** exceed 5.\n",
    "17. If the phone number or email address is missing, the \"Resume Rating\" **should** be 0.\n",
    "18. Assume the role of an IT interviewer and justify the \"Resume Rating\", correlating it with the likelihood of securing a job.\n",
    "19. Suggest the kind of job the student is likely to land, such as a Cloud Engineer, Data Centre Technician, or Network Engineer, based on the resume content.\n",
    "\"\"\""
   ]
  },
  {
   "cell_type": "code",
   "execution_count": 10,
   "metadata": {},
   "outputs": [],
   "source": [
    "import base64\n",
    "\n",
    "# Function to encode an image file as a base64 string\n",
    "def encode_image(image_path):\n",
    "    with open(image_path, \"rb\") as image_file:\n",
    "        return base64.b64encode(image_file.read()).decode(\"utf-8\")\n",
    "\n",
    "# Function to create messages for the AI model\n",
    "def create_messages(base64_images):\n",
    "    return [\n",
    "        {\"role\": \"system\", \"content\": system_prompt},\n",
    "        {\"role\": \"user\", \"content\": [\n",
    "            {\"type\": \"text\", \"text\": \"Describe the images as an alternative text, provide feedback, warning if any and ratiing on the resume.\"},\n",
    "            *[\n",
    "                {\"type\": \"image_url\", \"image_url\": {\"url\": f\"data:image/png;base64,{img}\"}}\n",
    "                for img in base64_images\n",
    "            ]\n",
    "        ]}\n",
    "    ]"
   ]
  },
  {
   "cell_type": "code",
   "execution_count": 13,
   "metadata": {},
   "outputs": [
    {
     "name": "stderr",
     "output_type": "stream",
     "text": [
      "Processing folders:   0%|          | 0/82 [00:00<?, ?it/s]"
     ]
    },
    {
     "name": "stderr",
     "output_type": "stream",
     "text": [
      "Processing folders: 100%|██████████| 82/82 [00:15<00:00,  5.28it/s]\n"
     ]
    }
   ],
   "source": [
    "from tqdm import tqdm\n",
    "import os\n",
    "from langchain_openai import AzureChatOpenAI\n",
    "\n",
    "llm = AzureChatOpenAI(\n",
    "    openai_api_version=os.getenv(\"AZURE_OPENAI_GPT4O_API_VERSION\"),\n",
    "    azure_deployment=os.getenv(\"AZURE_OPENAI_GPT4O_DEPLOYMENT_NAME\"),\n",
    "    temperature=0,\n",
    ")\n",
    "\n",
    "# Sort the cv_images_by_folder dictionary by folder\n",
    "sorted_cv_images_by_folder = dict(sorted(cv_images_by_folder.items(), key=lambda x: x[0]))\n",
    "\n",
    "for folder, images in tqdm(sorted_cv_images_by_folder.items(), desc=\"Processing folders\"):\n",
    "    save_path = os.path.join(folder, 'chatgpt_result.md')\n",
    "    if os.path.exists(save_path):\n",
    "        continue                \n",
    "    encode_images = [encode_image(image) for image in images]\n",
    "    messages = create_messages(encode_images)\n",
    "    ai_message = llm.invoke(messages)\n",
    "    # print(ai_message.content)\n",
    "    # Save ai_message.content to a file\n",
    "    with open(save_path, 'w') as file:\n",
    "        file.write(ai_message.content)"
   ]
  },
  {
   "cell_type": "code",
   "execution_count": null,
   "metadata": {},
   "outputs": [],
   "source": []
  }
 ],
 "metadata": {
  "kernelspec": {
   "display_name": "Python 3",
   "language": "python",
   "name": "python3"
  },
  "language_info": {
   "codemirror_mode": {
    "name": "ipython",
    "version": 3
   },
   "file_extension": ".py",
   "mimetype": "text/x-python",
   "name": "python",
   "nbconvert_exporter": "python",
   "pygments_lexer": "ipython3",
   "version": "3.11.9"
  }
 },
 "nbformat": 4,
 "nbformat_minor": 2
}
