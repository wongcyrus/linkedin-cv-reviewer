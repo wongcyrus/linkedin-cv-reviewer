{
 "cells": [
  {
   "cell_type": "markdown",
   "metadata": {},
   "source": [
    "# Data Preparation\n",
    "1. Extract class zip\n",
    "2. Rename folder\n",
    "3. Convert PDF to images."
   ]
  },
  {
   "cell_type": "code",
   "execution_count": 2,
   "metadata": {},
   "outputs": [
    {
     "name": "stdout",
     "output_type": "stream",
     "text": [
      "0% [Working]"
     ]
    },
    {
     "name": "stdout",
     "output_type": "stream",
     "text": [
      "Hit:1 http://deb.debian.org/debian bookworm InRelease\n",
      "Hit:2 http://deb.debian.org/debian bookworm-updates InRelease\n",
      "Hit:3 http://deb.debian.org/debian-security bookworm-security InRelease\n",
      "Hit:4 https://packages.microsoft.com/repos/azure-cli bookworm InRelease        \n",
      "Hit:5 https://dl.yarnpkg.com/debian stable InRelease                           \n",
      "Reading package lists... Done\n",
      "Reading package lists... Done\n",
      "Building dependency tree... Done\n",
      "Reading state information... Done\n",
      "The following additional packages will be installed:\n",
      "  libcairo2 libdeflate0 libjbig0 liblcms2-2 liblerc4 libopenjp2-7\n",
      "  libpixman-1-0 libpoppler126 libtiff6 libxcb-render0 libxcb-shm0 poppler-data\n",
      "Suggested packages:\n",
      "  liblcms2-utils ghostscript fonts-japanese-mincho | fonts-ipafont-mincho\n",
      "  fonts-japanese-gothic | fonts-ipafont-gothic fonts-arphic-ukai\n",
      "  fonts-arphic-uming fonts-nanum\n",
      "The following NEW packages will be installed:\n",
      "  libcairo2 libdeflate0 libjbig0 liblcms2-2 liblerc4 libopenjp2-7\n",
      "  libpixman-1-0 libpoppler126 libtiff6 libxcb-render0 libxcb-shm0 poppler-data\n",
      "  poppler-utils\n",
      "0 upgraded, 13 newly installed, 0 to remove and 1 not upgraded.\n",
      "Need to get 5908 kB of archives.\n",
      "After this operation, 24.1 MB of additional disk space will be used.\n",
      "Get:1 http://deb.debian.org/debian bookworm/main amd64 poppler-data all 0.4.12-1 [1601 kB]\n",
      "Get:2 http://deb.debian.org/debian bookworm/main amd64 libpixman-1-0 amd64 0.42.2-1 [546 kB]\n",
      "Get:3 http://deb.debian.org/debian bookworm/main amd64 libxcb-render0 amd64 1.15-1 [115 kB]\n",
      "Get:4 http://deb.debian.org/debian bookworm/main amd64 libxcb-shm0 amd64 1.15-1 [105 kB]\n",
      "Get:5 http://deb.debian.org/debian bookworm/main amd64 libcairo2 amd64 1.16.0-7 [575 kB]\n",
      "Get:6 http://deb.debian.org/debian bookworm/main amd64 libdeflate0 amd64 1.14-1 [61.4 kB]\n",
      "Get:7 http://deb.debian.org/debian bookworm/main amd64 libjbig0 amd64 2.1-6.1 [31.7 kB]\n",
      "Get:8 http://deb.debian.org/debian bookworm/main amd64 liblcms2-2 amd64 2.14-2 [154 kB]\n",
      "Get:9 http://deb.debian.org/debian bookworm/main amd64 liblerc4 amd64 4.0.0+ds-2 [170 kB]\n",
      "Get:10 http://deb.debian.org/debian bookworm/main amd64 libopenjp2-7 amd64 2.5.0-2 [189 kB]\n",
      "Get:11 http://deb.debian.org/debian bookworm/main amd64 libtiff6 amd64 4.5.0-6+deb12u1 [316 kB]\n",
      "Get:12 http://deb.debian.org/debian bookworm/main amd64 libpoppler126 amd64 22.12.0-2+b1 [1852 kB]\n",
      "Get:13 http://deb.debian.org/debian bookworm/main amd64 poppler-utils amd64 22.12.0-2+b1 [192 kB]\n",
      "Fetched 5908 kB in 0s (117 MB/s)         \n",
      "Selecting previously unselected package poppler-data.\n",
      "(Reading database ... 63933 files and directories currently installed.)\n",
      "Preparing to unpack .../00-poppler-data_0.4.12-1_all.deb ...\n",
      "Unpacking poppler-data (0.4.12-1) ...\n",
      "Selecting previously unselected package libpixman-1-0:amd64.\n",
      "Preparing to unpack .../01-libpixman-1-0_0.42.2-1_amd64.deb ...\n",
      "Unpacking libpixman-1-0:amd64 (0.42.2-1) ...\n",
      "Selecting previously unselected package libxcb-render0:amd64.\n",
      "Preparing to unpack .../02-libxcb-render0_1.15-1_amd64.deb ...\n",
      "Unpacking libxcb-render0:amd64 (1.15-1) ...\n",
      "Selecting previously unselected package libxcb-shm0:amd64.\n",
      "Preparing to unpack .../03-libxcb-shm0_1.15-1_amd64.deb ...\n",
      "Unpacking libxcb-shm0:amd64 (1.15-1) ...\n",
      "Selecting previously unselected package libcairo2:amd64.\n",
      "Preparing to unpack .../04-libcairo2_1.16.0-7_amd64.deb ...\n",
      "Unpacking libcairo2:amd64 (1.16.0-7) ...\n",
      "Selecting previously unselected package libdeflate0:amd64.\n",
      "Preparing to unpack .../05-libdeflate0_1.14-1_amd64.deb ...\n",
      "Unpacking libdeflate0:amd64 (1.14-1) ...\n",
      "Selecting previously unselected package libjbig0:amd64.\n",
      "Preparing to unpack .../06-libjbig0_2.1-6.1_amd64.deb ...\n",
      "Unpacking libjbig0:amd64 (2.1-6.1) ...\n",
      "Selecting previously unselected package liblcms2-2:amd64.\n",
      "Preparing to unpack .../07-liblcms2-2_2.14-2_amd64.deb ...\n",
      "Unpacking liblcms2-2:amd64 (2.14-2) ...\n",
      "Selecting previously unselected package liblerc4:amd64.\n",
      "Preparing to unpack .../08-liblerc4_4.0.0+ds-2_amd64.deb ...\n",
      "Unpacking liblerc4:amd64 (4.0.0+ds-2) ...\n",
      "Selecting previously unselected package libopenjp2-7:amd64.\n",
      "Preparing to unpack .../09-libopenjp2-7_2.5.0-2_amd64.deb ...\n",
      "Unpacking libopenjp2-7:amd64 (2.5.0-2) ...\n",
      "Selecting previously unselected package libtiff6:amd64.\n",
      "Preparing to unpack .../10-libtiff6_4.5.0-6+deb12u1_amd64.deb ...\n",
      "Unpacking libtiff6:amd64 (4.5.0-6+deb12u1) ...\n",
      "Selecting previously unselected package libpoppler126:amd64.\n",
      "Preparing to unpack .../11-libpoppler126_22.12.0-2+b1_amd64.deb ...\n",
      "Unpacking libpoppler126:amd64 (22.12.0-2+b1) ...\n",
      "Selecting previously unselected package poppler-utils.\n",
      "Preparing to unpack .../12-poppler-utils_22.12.0-2+b1_amd64.deb ...\n",
      "Unpacking poppler-utils (22.12.0-2+b1) ...\n",
      "Setting up liblcms2-2:amd64 (2.14-2) ...\n",
      "Setting up libpixman-1-0:amd64 (0.42.2-1) ...\n",
      "Setting up liblerc4:amd64 (4.0.0+ds-2) ...\n",
      "Setting up libxcb-render0:amd64 (1.15-1) ...\n",
      "Setting up libdeflate0:amd64 (1.14-1) ...\n",
      "Setting up libxcb-shm0:amd64 (1.15-1) ...\n",
      "Setting up libjbig0:amd64 (2.1-6.1) ...\n",
      "Setting up libcairo2:amd64 (1.16.0-7) ...\n",
      "Setting up poppler-data (0.4.12-1) ...\n",
      "Setting up libtiff6:amd64 (4.5.0-6+deb12u1) ...\n",
      "Setting up libopenjp2-7:amd64 (2.5.0-2) ...\n",
      "Setting up libpoppler126:amd64 (22.12.0-2+b1) ...\n",
      "Setting up poppler-utils (22.12.0-2+b1) ...\n",
      "Processing triggers for man-db (2.11.2-2) ...\n",
      "Processing triggers for libc-bin (2.36-9+deb12u7) ...\n"
     ]
    }
   ],
   "source": [
    "!sudo apt-get update -y\n",
    "!sudo apt-get install poppler-utils -y"
   ]
  },
  {
   "cell_type": "code",
   "execution_count": 3,
   "metadata": {},
   "outputs": [],
   "source": [
    "import zipfile\n",
    "\n",
    "zip_file_path = 'data/ITP4117_IT_ICT_khtong_1-submit CV (extract from LinkedIn)-757425.zip'\n",
    "extract_to_directory = 'data/'\n",
    "\n",
    "with zipfile.ZipFile(zip_file_path, 'r') as zip_ref:\n",
    "    zip_ref.extractall(extract_to_directory)"
   ]
  },
  {
   "cell_type": "code",
   "execution_count": 4,
   "metadata": {},
   "outputs": [],
   "source": [
    "import os\n",
    "\n",
    "for folder_name in os.listdir(extract_to_directory):\n",
    "    if '_' in folder_name and \".zip\" not in folder_name:\n",
    "        new_folder_name = folder_name.split('_')[0]\n",
    "        if not os.path.exists(os.path.join(extract_to_directory, new_folder_name)):\n",
    "            os.rename(os.path.join(extract_to_directory, folder_name), os.path.join(extract_to_directory, new_folder_name))\n",
    "        else:\n",
    "            # take care the case where students with the same name.\n",
    "            raise Exception(f\"Folder {new_folder_name} already exists\")"
   ]
  },
  {
   "cell_type": "code",
   "execution_count": 8,
   "metadata": {},
   "outputs": [],
   "source": [
    "from pdf2image import convert_from_path\n",
    "import os\n",
    "\n",
    "pdf_directory = extract_to_directory\n",
    "\n",
    "for folder_name in os.listdir(pdf_directory):\n",
    "    if os.path.isdir(os.path.join(pdf_directory, folder_name)):\n",
    "        pdf_folder_path = os.path.join(pdf_directory, folder_name)\n",
    "        for filename in os.listdir(pdf_folder_path):\n",
    "            if filename.endswith('.pdf'):\n",
    "                pdf_path = os.path.join(pdf_folder_path, filename)\n",
    "                images = convert_from_path(pdf_path)\n",
    "                for i, image in enumerate(images):\n",
    "                    page_number = i + 1\n",
    "                    image_path = os.path.join(pdf_folder_path, f\"{folder_name}_{page_number}.png\")\n",
    "                    image.save(image_path, 'PNG')"
   ]
  }
 ],
 "metadata": {
  "kernelspec": {
   "display_name": "Python 3",
   "language": "python",
   "name": "python3"
  },
  "language_info": {
   "codemirror_mode": {
    "name": "ipython",
    "version": 3
   },
   "file_extension": ".py",
   "mimetype": "text/x-python",
   "name": "python",
   "nbconvert_exporter": "python",
   "pygments_lexer": "ipython3",
   "version": "3.11.9"
  }
 },
 "nbformat": 4,
 "nbformat_minor": 2
}
